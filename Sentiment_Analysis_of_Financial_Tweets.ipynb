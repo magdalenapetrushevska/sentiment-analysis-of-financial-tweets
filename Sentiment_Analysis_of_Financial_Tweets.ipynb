{
  "nbformat": 4,
  "nbformat_minor": 0,
  "metadata": {
    "colab": {
      "name": "Sentiment Analysis of Financial Tweets.ipynb",
      "provenance": [],
      "collapsed_sections": []
    },
    "kernelspec": {
      "name": "python3",
      "display_name": "Python 3"
    },
    "language_info": {
      "name": "python"
    }
  },
  "cells": [
    {
      "cell_type": "markdown",
      "source": [
        "#Sentiment Analysis of Financial Tweets"
      ],
      "metadata": {
        "id": "QRHowYEAQRfe"
      }
    },
    {
      "cell_type": "markdown",
      "source": [
        "###Data preparation"
      ],
      "metadata": {
        "id": "gA2H601bQZiw"
      }
    },
    {
      "cell_type": "code",
      "execution_count": null,
      "metadata": {
        "id": "nHEdrIxiPgig"
      },
      "outputs": [],
      "source": [
        "import pandas as pd\n",
        "\n",
        "df1 = pd.read_csv(\"/content/drive/MyDrive/datasets/stockerbot-export1.csv\")\n",
        "df2 = pd.read_csv(\"/content/drive/MyDrive/datasets/tweet_sentiment.csv\")"
      ]
    },
    {
      "cell_type": "markdown",
      "source": [
        "To make it easier for us to work, we will merge the two data sources into one dataframe"
      ],
      "metadata": {
        "id": "4n7cB3l9ht7Q"
      }
    },
    {
      "cell_type": "code",
      "source": [
        "result = pd.DataFrame()\n",
        "\n",
        "result = df1"
      ],
      "metadata": {
        "id": "QVCMmIjv0Zi3"
      },
      "execution_count": null,
      "outputs": []
    },
    {
      "cell_type": "code",
      "source": [
        "result['cleaned_tweets'] = df2['cleaned_tweets']"
      ],
      "metadata": {
        "id": "hPaxukA_0bM6"
      },
      "execution_count": null,
      "outputs": []
    },
    {
      "cell_type": "code",
      "source": [
        "result['sentiment'] = df2['sentiment']"
      ],
      "metadata": {
        "id": "wj1hVwDH0r4P"
      },
      "execution_count": null,
      "outputs": []
    },
    {
      "cell_type": "code",
      "source": [
        "df = result"
      ],
      "metadata": {
        "id": "cDIHR4V31Tv8"
      },
      "execution_count": null,
      "outputs": []
    },
    {
      "cell_type": "markdown",
      "source": [
        "###Exploratory Data Analysis"
      ],
      "metadata": {
        "id": "5NONq9rfQodu"
      }
    },
    {
      "cell_type": "code",
      "source": [
        "import matplotlib.pyplot as plt\n",
        "import seaborn as sns\n",
        "%matplotlib inline\n",
        "\n",
        "sns.countplot(df['sentiment'])"
      ],
      "metadata": {
        "id": "jFjl-ANXQrUL",
        "colab": {
          "base_uri": "https://localhost:8080/",
          "height": 351
        },
        "outputId": "dedb25ee-c611-4628-d6e4-66c2948cc734"
      },
      "execution_count": null,
      "outputs": [
        {
          "output_type": "stream",
          "name": "stderr",
          "text": [
            "/usr/local/lib/python3.7/dist-packages/seaborn/_decorators.py:43: FutureWarning: Pass the following variable as a keyword arg: x. From version 0.12, the only valid positional argument will be `data`, and passing other arguments without an explicit keyword will result in an error or misinterpretation.\n",
            "  FutureWarning\n"
          ]
        },
        {
          "output_type": "execute_result",
          "data": {
            "text/plain": [
              "<matplotlib.axes._subplots.AxesSubplot at 0x7fb50950ced0>"
            ]
          },
          "metadata": {},
          "execution_count": 12
        },
        {
          "output_type": "display_data",
          "data": {
            "text/plain": [
              "<Figure size 432x288 with 1 Axes>"
            ],
            "image/png": "[encoded data removed]"
          },
          "metadata": {
            "needs_background": "light"
          }
        }
      ]
    },
    {
      "cell_type": "markdown",
      "source": [
        "### Clustering for sentiment analysis of financial tweets"
      ],
      "metadata": {
        "id": "MAwgSMTKi7Iw"
      }
    },
    {
      "cell_type": "code",
      "source": [
        " pip install transformers"
      ],
      "metadata": {
        "id": "GWg5Dd-lhGVr"
      },
      "execution_count": null,
      "outputs": []
    },
    {
      "cell_type": "code",
      "source": [
        "from absl import logging\n",
        "\n",
        "import tensorflow as tf\n",
        "\n",
        "import tensorflow_hub as hub\n",
        "import matplotlib.pyplot as plt\n",
        "import numpy as np\n",
        "import os\n",
        "import pandas as pd\n",
        "import re\n",
        "import seaborn as sns\n",
        "\n",
        "module_url = \"https://tfhub.dev/google/universal-sentence-encoder/4\"\n",
        "model = hub.load(module_url)\n",
        "print (\"module %s loaded\" % module_url)\n",
        "def embed(input):\n",
        "  return model(input)"
      ],
      "metadata": {
        "colab": {
          "base_uri": "https://localhost:8080/"
        },
        "id": "xRpUKjI3hKen",
        "outputId": "7ec1e0f3-7433-45f4-af7d-52acba3a4299"
      },
      "execution_count": null,
      "outputs": [
        {
          "output_type": "stream",
          "name": "stdout",
          "text": [
            "module https://tfhub.dev/google/universal-sentence-encoder/4 loaded\n"
          ]
        }
      ]
    },
    {
      "cell_type": "code",
      "source": [
        "df1.text.values"
      ],
      "metadata": {
        "colab": {
          "base_uri": "https://localhost:8080/"
        },
        "id": "YzTa4mHDhmBF",
        "outputId": "ef9eedd1-a0f6-4d33-c755-64002d4369a2"
      },
      "execution_count": null,
      "outputs": [
        {
          "output_type": "execute_result",
          "data": {
            "text/plain": [
              "array(['VIDEO: “I was in my office. I was minding my own business...” –David Solomon tells $GS interns how he learned he wa… https://t.co/QClAITywXV',\n",
              "       \"The price of lumber $LB_F is down 22% since hitting its YTD highs. The Macy's $M turnaround is still happening.… https://t.co/XnKsV4De39\",\n",
              "       'Who says the American Dream is dead? https://t.co/CRgx19x7sA',\n",
              "       ...,\n",
              "       \"RT @invest_in_hd: 'Nuff said!  $TEL #telcoin #Telfam #crypto #Blockchain #ethereum #bitcoin $BTC $ETH https://t.co/dkRvaYzgcd\",\n",
              "       '【仮想通貨】ビットコインの価格上昇、８０万円台回復\\u3000約１カ月半ぶり\\u3000\\u3000\\u3000\\u3000\\u3000\\u3000$BTC https://t.co/1OaM6ANOLX https://t.co/Ezd82kCt9L',\n",
              "       'Stellar $XLM price: $0.297852 Binance registration is now OPEN for limited time! 💸 💰  ➡️… https://t.co/TteerEnNjo'],\n",
              "      dtype=object)"
            ]
          },
          "metadata": {},
          "execution_count": 5
        }
      ]
    },
    {
      "cell_type": "code",
      "source": [
        "logging.set_verbosity(logging.ERROR)\n",
        "\n",
        "message_embeddings = embed(df1.text.values)"
      ],
      "metadata": {
        "id": "k01FKn0RhUtx"
      },
      "execution_count": null,
      "outputs": []
    },
    {
      "cell_type": "code",
      "source": [
        "from sklearn.cluster import KMeans\n",
        "\n",
        "km = KMeans(n_clusters=3)\n",
        "km.fit(message_embeddings)\n",
        "clusters = km.labels_.tolist()"
      ],
      "metadata": {
        "id": "pTaYQNgnmFrI"
      },
      "execution_count": null,
      "outputs": []
    },
    {
      "cell_type": "code",
      "source": [
        "from sklearn.decomposition import PCA\n",
        "import numpy as np\n",
        "\n",
        "\n",
        "data = message_embeddings\n",
        "pca = PCA(2)\n",
        " \n",
        "#Transform the data\n",
        "df_clustering_new = pca.fit_transform(data)"
      ],
      "metadata": {
        "id": "fVdugSyImMuo"
      },
      "execution_count": null,
      "outputs": []
    },
    {
      "cell_type": "code",
      "source": [
        "#Initialize the class object\n",
        "kmeans = KMeans(n_clusters=3)\n",
        " \n",
        "#predict the labels of clusters.\n",
        "label = kmeans.fit_predict(df_clustering_new)\n",
        " \n",
        "#Getting unique labels\n",
        "u_labels = np.unique(label)\n",
        " \n",
        "labels = kmeans.labels_"
      ],
      "metadata": {
        "id": "SoZtXGopmQh9"
      },
      "execution_count": null,
      "outputs": []
    },
    {
      "cell_type": "code",
      "source": [
        "import matplotlib.pyplot as plt\n",
        "import seaborn as sns\n",
        "%matplotlib inline\n",
        "#plotting the results:\n",
        "for i in u_labels:\n",
        "    plt.scatter(df_clustering_new[label == i , 0] , df_clustering_new[label == i , 1] , label = i)\n",
        "plt.legend()\n",
        "plt.show()"
      ],
      "metadata": {
        "colab": {
          "base_uri": "https://localhost:8080/",
          "height": 265
        },
        "id": "XAIokSsFmUPT",
        "outputId": "2721a201-4735-4408-ad9a-7c02c31dfa2f"
      },
      "execution_count": null,
      "outputs": [
        {
          "output_type": "display_data",
          "data": {
            "text/plain": [
              "<Figure size 432x288 with 1 Axes>"
            ],
            "image/png": "[encoded data removed]"
          },
          "metadata": {
            "needs_background": "light"
          }
        }
      ]
    },
    {
      "cell_type": "markdown",
      "source": [
        "### CNN & LSTM for sentiment analysis"
      ],
      "metadata": {
        "id": "W9ucwkzgiIJL"
      }
    },
    {
      "cell_type": "code",
      "source": [
        "X = df['text']\n",
        "y = pd.get_dummies(df['sentiment']).values\n",
        "num_classes = df['sentiment'].nunique()"
      ],
      "metadata": {
        "id": "5tS2KZJ51b8s"
      },
      "execution_count": null,
      "outputs": []
    },
    {
      "cell_type": "code",
      "source": [
        "from sklearn.model_selection import train_test_split\n",
        "X_train, X_test, Y_train, Y_test = train_test_split(X,y, \n",
        "                                                    test_size=0.2,\n",
        "                                                    random_state=1)\n",
        "print(X_train.shape, X_test.shape, Y_train.shape, Y_test.shape)"
      ],
      "metadata": {
        "colab": {
          "base_uri": "https://localhost:8080/"
        },
        "id": "LFmvh7aY3Q_7",
        "outputId": "78c56981-7e0d-4b0a-9d3b-69c35b4b9901"
      },
      "execution_count": null,
      "outputs": [
        {
          "output_type": "stream",
          "name": "stdout",
          "text": [
            "(22752,) (5688,) (22752, 3) (5688, 3)\n"
          ]
        }
      ]
    },
    {
      "cell_type": "code",
      "source": [
        "# Tokenize Text\n",
        "from keras.preprocessing.text import Tokenizer\n",
        "max_features = 100\n",
        "tokenizer = Tokenizer(num_words=max_features)\n",
        "tokenizer.fit_on_texts(list(X_train))\n",
        "X_train = tokenizer.texts_to_sequences(X_train)\n",
        "X_test = tokenizer.texts_to_sequences(X_test)"
      ],
      "metadata": {
        "id": "J1BOoinK3Vvw"
      },
      "execution_count": null,
      "outputs": []
    },
    {
      "cell_type": "code",
      "source": [
        "import matplotlib.pyplot as plt\n",
        "totalNumWords = [len(one_comment) for one_comment in X_train]\n",
        "plt.hist(totalNumWords)\n",
        "plt.show()"
      ],
      "metadata": {
        "colab": {
          "base_uri": "https://localhost:8080/",
          "height": 265
        },
        "id": "xyOXqjTT30H-",
        "outputId": "fcc0f441-b608-4427-8cf9-5c4a699e03a3"
      },
      "execution_count": null,
      "outputs": [
        {
          "output_type": "display_data",
          "data": {
            "text/plain": [
              "<Figure size 432x288 with 1 Axes>"
            ],
            "image/png": "[encoded data removed]"
          },
          "metadata": {
            "needs_background": "light"
          }
        }
      ]
    },
    {
      "cell_type": "code",
      "source": [
        "from keras.preprocessing import sequence\n",
        "max_words = 20\n",
        "X_train = sequence.pad_sequences(X_train, maxlen=max_words)\n",
        "X_test = sequence.pad_sequences(X_test, maxlen=max_words)\n",
        "print(X_train.shape,X_test.shape)"
      ],
      "metadata": {
        "colab": {
          "base_uri": "https://localhost:8080/"
        },
        "id": "YVfrZ2xj34hn",
        "outputId": "b86d0116-9e2e-4799-cbc5-43c84347f52e"
      },
      "execution_count": null,
      "outputs": [
        {
          "output_type": "stream",
          "name": "stdout",
          "text": [
            "(22752, 20) (5688, 20)\n"
          ]
        }
      ]
    },
    {
      "cell_type": "code",
      "source": [
        "import keras.backend as K\n",
        "from keras.models import Sequential\n",
        "from keras.layers import Dense,Embedding,Conv1D,MaxPooling1D,LSTM, Flatten\n",
        "from sklearn.metrics import accuracy_score,confusion_matrix,classification_report"
      ],
      "metadata": {
        "id": "gRLGoioi4O3Y"
      },
      "execution_count": null,
      "outputs": []
    },
    {
      "cell_type": "code",
      "source": [
        "K.clear_session()\n",
        "model = Sequential()\n",
        "model.add(Embedding(max_features, 20, input_length=X_train.shape[1]))\n",
        "model.add(Conv1D(filters=20, kernel_size=3, padding='same', activation='relu'))\n",
        "model.add(MaxPooling1D(pool_size=2))\n",
        "model.add(Conv1D(filters=10, kernel_size=3, activation='relu'))\n",
        "model.add(MaxPooling1D(pool_size=2))    \n",
        "model.add(LSTM(100, dropout=0.2, recurrent_dropout=0.2))\n",
        "model.add(Dense(num_classes, activation='softmax'))"
      ],
      "metadata": {
        "id": "IHmSdbND4TVx"
      },
      "execution_count": null,
      "outputs": []
    },
    {
      "cell_type": "code",
      "source": [
        " model.compile(loss='categorical_crossentropy', optimizer='adam', metrics=['accuracy'])"
      ],
      "metadata": {
        "id": "RpD1y8C04Wu8"
      },
      "execution_count": null,
      "outputs": []
    },
    {
      "cell_type": "code",
      "source": [
        "model_history = model.fit(X_train, Y_train,  epochs=10, batch_size=120, verbose=2, validation_split=0.2)"
      ],
      "metadata": {
        "colab": {
          "base_uri": "https://localhost:8080/"
        },
        "id": "gue1FbpT4Y3v",
        "outputId": "96bf22f9-6e1e-43ff-8acd-4a1f70750653"
      },
      "execution_count": null,
      "outputs": [
        {
          "output_type": "stream",
          "name": "stdout",
          "text": [
            "Epoch 1/10\n",
            "152/152 - 7s - loss: 0.8622 - accuracy: 0.6291 - val_loss: 0.7098 - val_accuracy: 0.7220 - 7s/epoch - 43ms/step\n",
            "Epoch 2/10\n",
            "152/152 - 3s - loss: 0.6930 - accuracy: 0.7286 - val_loss: 0.6624 - val_accuracy: 0.7488 - 3s/epoch - 18ms/step\n",
            "Epoch 3/10\n",
            "152/152 - 3s - loss: 0.6526 - accuracy: 0.7455 - val_loss: 0.6184 - val_accuracy: 0.7666 - 3s/epoch - 18ms/step\n",
            "Epoch 4/10\n",
            "152/152 - 3s - loss: 0.6199 - accuracy: 0.7579 - val_loss: 0.6041 - val_accuracy: 0.7660 - 3s/epoch - 18ms/step\n",
            "Epoch 5/10\n",
            "152/152 - 3s - loss: 0.5993 - accuracy: 0.7663 - val_loss: 0.5910 - val_accuracy: 0.7708 - 3s/epoch - 18ms/step\n",
            "Epoch 6/10\n",
            "152/152 - 3s - loss: 0.5861 - accuracy: 0.7714 - val_loss: 0.5858 - val_accuracy: 0.7748 - 3s/epoch - 18ms/step\n",
            "Epoch 7/10\n",
            "152/152 - 3s - loss: 0.5741 - accuracy: 0.7759 - val_loss: 0.5759 - val_accuracy: 0.7737 - 3s/epoch - 18ms/step\n",
            "Epoch 8/10\n",
            "152/152 - 3s - loss: 0.5639 - accuracy: 0.7803 - val_loss: 0.5741 - val_accuracy: 0.7792 - 3s/epoch - 19ms/step\n",
            "Epoch 9/10\n",
            "152/152 - 3s - loss: 0.5526 - accuracy: 0.7830 - val_loss: 0.5649 - val_accuracy: 0.7783 - 3s/epoch - 18ms/step\n",
            "Epoch 10/10\n",
            "152/152 - 3s - loss: 0.5422 - accuracy: 0.7891 - val_loss: 0.5625 - val_accuracy: 0.7829 - 3s/epoch - 19ms/step\n"
          ]
        }
      ]
    },
    {
      "cell_type": "code",
      "source": [
        " y_pred = model.predict(X_test)"
      ],
      "metadata": {
        "id": "PZ9I27Xv4f_Y"
      },
      "execution_count": null,
      "outputs": []
    },
    {
      "cell_type": "code",
      "source": [
        " y_pred = y_pred.round()"
      ],
      "metadata": {
        "id": "5Ypmvr-Y4iUq"
      },
      "execution_count": null,
      "outputs": []
    },
    {
      "cell_type": "code",
      "source": [
        "# \"Loss\"\n",
        "plt.plot(model_history.history['loss'])\n",
        "plt.plot(model_history.history['val_loss'])\n",
        "plt.title('model loss')\n",
        "plt.ylabel('loss')\n",
        "plt.xlabel('epoch')\n",
        "plt.legend(['train', 'validation'], loc='upper left')\n",
        "plt.show()"
      ],
      "metadata": {
        "colab": {
          "base_uri": "https://localhost:8080/",
          "height": 295
        },
        "id": "q_yLHsCd4lnq",
        "outputId": "71116dbf-d64f-4c61-f8cb-cc69cc3eef7a"
      },
      "execution_count": null,
      "outputs": [
        {
          "output_type": "display_data",
          "data": {
            "text/plain": [
              "<Figure size 432x288 with 1 Axes>"
            ],
            "image/png": "[encoded data removed]"
          },
          "metadata": {
            "needs_background": "light"
          }
        }
      ]
    },
    {
      "cell_type": "code",
      "source": [
        "import seaborn as sns\n",
        "import numpy as np\n",
        "\n",
        "confmat = confusion_matrix(np.argmax(Y_test,axis=1),np.argmax(y_pred,axis=1))\n",
        "\n",
        "sns.heatmap(confmat,annot=True,cmap='Blues')\n",
        "plt.xlabel('Predicted label')\n",
        "plt.ylabel('True label')\n",
        "plt.tight_layout()"
      ],
      "metadata": {
        "colab": {
          "base_uri": "https://localhost:8080/",
          "height": 297
        },
        "id": "Ho9ghMUJ4o8z",
        "outputId": "358b8c22-ea4c-4624-947b-3e3c412daf78"
      },
      "execution_count": null,
      "outputs": [
        {
          "output_type": "display_data",
          "data": {
            "text/plain": [
              "<Figure size 432x288 with 2 Axes>"
            ],
            "image/png": "[encoded data removed]"
          },
          "metadata": {
            "needs_background": "light"
          }
        }
      ]
    },
    {
      "cell_type": "code",
      "source": [
        "from sklearn.metrics import classification_report\n",
        "print(classification_report(np.argmax(Y_test,axis=1), np.argmax(y_pred,axis=1)))"
      ],
      "metadata": {
        "colab": {
          "base_uri": "https://localhost:8080/"
        },
        "id": "cCAbUIlW4sg9",
        "outputId": "c142daf1-be22-462f-d1cb-508a1986dee8"
      },
      "execution_count": null,
      "outputs": [
        {
          "output_type": "stream",
          "name": "stdout",
          "text": [
            "              precision    recall  f1-score   support\n",
            "\n",
            "           0       0.34      0.26      0.29       525\n",
            "           1       0.77      0.91      0.84      3475\n",
            "           2       0.85      0.59      0.70      1688\n",
            "\n",
            "    accuracy                           0.76      5688\n",
            "   macro avg       0.65      0.59      0.61      5688\n",
            "weighted avg       0.75      0.76      0.74      5688\n",
            "\n"
          ]
        }
      ]
    },
    {
      "cell_type": "markdown",
      "source": [
        "### XGBoost"
      ],
      "metadata": {
        "id": "tTmokGcmlITH"
      }
    },
    {
      "cell_type": "code",
      "source": [
        "df2 = df2.sample(frac = 0.04)"
      ],
      "metadata": {
        "id": "-_UQlgpqkNYB"
      },
      "execution_count": null,
      "outputs": []
    },
    {
      "cell_type": "code",
      "source": [
        "df2['cleaned_tweets'] = df2['cleaned_tweets'].fillna('')"
      ],
      "metadata": {
        "id": "hFj9pvfC5rHg"
      },
      "execution_count": null,
      "outputs": []
    },
    {
      "cell_type": "code",
      "source": [
        "df2['sentiment']=df2['sentiment'].mask(df2['sentiment']<0,2)"
      ],
      "metadata": {
        "id": "OWG3ec-l5s4J"
      },
      "execution_count": null,
      "outputs": []
    },
    {
      "cell_type": "code",
      "source": [
        "from sklearn.feature_extraction.text import CountVectorizer\n",
        "\n",
        "vectorizer = CountVectorizer()\n",
        "names = df2['cleaned_tweets']\n",
        "X = vectorizer.fit_transform(names)\n",
        "feature_names = vectorizer.get_feature_names()\n",
        "dense = X.todense()\n",
        "denselist = dense.tolist()\n",
        "data = pd.DataFrame(denselist, columns=feature_names)"
      ],
      "metadata": {
        "id": "QFXrJqjd56d7",
        "colab": {
          "base_uri": "https://localhost:8080/"
        },
        "outputId": "81a1e99f-3100-409a-b249-98279fb363f0"
      },
      "execution_count": null,
      "outputs": [
        {
          "output_type": "stream",
          "name": "stderr",
          "text": [
            "/usr/local/lib/python3.7/dist-packages/sklearn/utils/deprecation.py:87: FutureWarning: Function get_feature_names is deprecated; get_feature_names is deprecated in 1.0 and will be removed in 1.2. Please use get_feature_names_out instead.\n",
            "  warnings.warn(msg, category=FutureWarning)\n"
          ]
        }
      ]
    },
    {
      "cell_type": "code",
      "source": [
        "from sklearn.model_selection import train_test_split\n",
        "\n",
        "X_train, X_test, Y_train, Y_test = train_test_split( data[data.columns[:]],  df2['sentiment'], test_size=0.2)"
      ],
      "metadata": {
        "id": "aAqFRDyQ5x3c"
      },
      "execution_count": null,
      "outputs": []
    },
    {
      "cell_type": "code",
      "source": [
        "from xgboost import XGBClassifier\n",
        "\n",
        "\n",
        "#inicialize XGBoost\n",
        "model = XGBClassifier(max_depth=50, min_child_weight=1,  n_estimators=200,n_jobs=-1 , verbose=1,learning_rate=0.16)\n",
        "\n",
        "# Add silent=True to avoid printing out updates with each cycle\n",
        "model.fit(X_train, Y_train)\n",
        "\n",
        "#make prediction\n",
        "y_pred = model.predict(X_test)"
      ],
      "metadata": {
        "id": "QyKDs5tn7_pg"
      },
      "execution_count": null,
      "outputs": []
    },
    {
      "cell_type": "code",
      "source": [
        "from sklearn import metrics\n",
        "\n",
        "print(\"Accuracy:\",metrics.accuracy_score(Y_test, y_pred))"
      ],
      "metadata": {
        "id": "jb3fn4FS901f",
        "colab": {
          "base_uri": "https://localhost:8080/"
        },
        "outputId": "bb6abcaa-7c0a-464e-892d-4ed3e51a008b"
      },
      "execution_count": null,
      "outputs": [
        {
          "output_type": "stream",
          "name": "stdout",
          "text": [
            "Accuracy: 0.8947368421052632\n"
          ]
        }
      ]
    },
    {
      "cell_type": "code",
      "source": [
        "from sklearn.metrics import classification_report, confusion_matrix\n",
        "\n",
        "print(confusion_matrix(Y_test, y_pred))\n",
        "print(classification_report(Y_test, y_pred))"
      ],
      "metadata": {
        "id": "epZsl_429_jI",
        "colab": {
          "base_uri": "https://localhost:8080/"
        },
        "outputId": "d3a79d8f-fa7d-450f-db54-3ab0e30ca9ad"
      },
      "execution_count": null,
      "outputs": [
        {
          "output_type": "stream",
          "name": "stdout",
          "text": [
            "[[144   5   0]\n",
            " [ 10  48   1]\n",
            " [  8   0  12]]\n",
            "              precision    recall  f1-score   support\n",
            "\n",
            "           0       0.89      0.97      0.93       149\n",
            "           1       0.91      0.81      0.86        59\n",
            "           2       0.92      0.60      0.73        20\n",
            "\n",
            "    accuracy                           0.89       228\n",
            "   macro avg       0.91      0.79      0.84       228\n",
            "weighted avg       0.90      0.89      0.89       228\n",
            "\n"
          ]
        }
      ]
    },
    {
      "cell_type": "markdown",
      "source": [
        "### Best model"
      ],
      "metadata": {
        "id": "fYNUpipenGXA"
      }
    },
    {
      "cell_type": "markdown",
      "source": [
        "In this case, a better model is XGBoost because it has a better f1-score and greater accuracy."
      ],
      "metadata": {
        "id": "2Pmu2bJInLIM"
      }
    }
  ]
}